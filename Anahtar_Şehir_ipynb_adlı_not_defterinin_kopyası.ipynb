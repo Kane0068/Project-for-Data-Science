{
  "nbformat": 4,
  "nbformat_minor": 0,
  "metadata": {
    "colab": {
      "provenance": [],
      "authorship_tag": "ABX9TyMsLfuW2LrqoEvidqwjjMT7",
      "include_colab_link": true
    },
    "kernelspec": {
      "name": "python3",
      "display_name": "Python 3"
    },
    "language_info": {
      "name": "python"
    }
  },
  "cells": [
    {
      "cell_type": "markdown",
      "metadata": {
        "id": "view-in-github",
        "colab_type": "text"
      },
      "source": [
        "<a href=\"https://colab.research.google.com/github/Kane0068/Project-for-Data-Science/blob/main/Anahtar_%C5%9Eehir_ipynb_adl%C4%B1_not_defterinin_kopyas%C4%B1.ipynb\" target=\"_parent\"><img src=\"https://colab.research.google.com/assets/colab-badge.svg\" alt=\"Open In Colab\"/></a>"
      ]
    },
    {
      "cell_type": "markdown",
      "source": [
        "- Önce görüntü mü yoksa pdf mi ona karar verir\n",
        "- Görüntüyse ona göre\n",
        "* pdf ise ona göre okuma işlemi yapar\n",
        "- İçinde tanımlanan şehir isimlerini tarar\n",
        "- Bulursa uygun kategoriye ekler bulamazsa boş döndürür\n"
      ],
      "metadata": {
        "id": "cjAButAccpgP"
      }
    },
    {
      "cell_type": "code",
      "execution_count": null,
      "metadata": {
        "id": "XLaUqFHccjG8"
      },
      "outputs": [],
      "source": [
        "import cv2\n",
        "import pytesseract\n",
        "import PyPDF2\n",
        "import re\n",
        "\n",
        "def categorize_file(input_file, cities, category_folder):\n",
        "    # PDF mi görüntü dosyası mı kontrol ediyoruz\n",
        "    if input_file.lower().endswith(('.pdf', '.jpeg', '.jpg', '.png')):\n",
        "        is_image = True\n",
        "    else:\n",
        "        is_image = False\n",
        "\n",
        "    # Görüntü ise\n",
        "    if is_image:\n",
        "        image = cv2.imread(input_file)\n",
        "        text = pytesseract.image_to_string(image)\n",
        "    # Metin formatı ise\n",
        "    else:\n",
        "        pdf_file = open(input_file, \"rb\")\n",
        "        pdf_reader = PyPDF2.PdfFileReader(pdf_file)\n",
        "        text = \"\"\n",
        "        for page_num in range(pdf_reader.numPages):\n",
        "            page = pdf_reader.getPage(page_num)\n",
        "            text += page.extractText()\n",
        "        pdf_file.close()\n",
        "\n",
        "    # Şehir listesini yapalım\n",
        "    matched_cities = [city for city in cities if re.search(city, text, re.I)]\n",
        "\n",
        "    if matched_cities:\n",
        "        # Kategoriyi belirle\n",
        "        category = matched_cities[0]\n",
        "\n",
        "        # Kategorinin dosya yolu\n",
        "        category_path = os.path.join(category_folder, category)\n",
        "\n",
        "        # Kategorinin klasörünü oluştur\n",
        "        os.makedirs(category_path, exist_ok=True)\n",
        "\n",
        "        # Metni ilgili kategoriye kaydet\n",
        "        with open(os.path.join(category_path, os.path.basename(input_file)), \"w\") as file:\n",
        "            file.write(text)\n",
        "\n",
        "    return matched_cities\n",
        "\n",
        "# Kullanım örneği:\n",
        "input_file = \"example.pdf\"  # İşlem yapılacak dosyanın yolu\n",
        "cities = [\"Adana\", \"İstanbul\", \"Ankara\"]  # İlgili şehirleri ekleyelim\n",
        "category_folder = \"categorized_data\"  # Kategorilendirilmiş verilerin kaydedileceği klasör\n",
        "\n",
        "matched_cities = categorize_file(input_file, cities, category_folder)\n",
        "if matched_cities:\n",
        "    print(f\"Kategori: {matched_cities[0]}\")\n"
      ]
    },
    {
      "cell_type": "markdown",
      "source": [
        "- TARAYICI KULLANARAK TARA\n",
        "- TARANAN GÖRÜNTÜYÜ METNE ÇEVİR\n",
        "- İŞLEMLERİ TEKRARLA"
      ],
      "metadata": {
        "id": "uhV_HG-mfEvV"
      }
    },
    {
      "cell_type": "code",
      "source": [
        "import cv2\n",
        "import pytesseract\n",
        "import PyPDF2\n",
        "import re\n",
        "import shutil\n",
        "import os\n",
        "from scanner import Scanner  # Tarayıcı kütüphanesi\n",
        "\n",
        "def scan_and_categorize(input_path, cities, category_folder):\n",
        "    scanner = Scanner()  # Tarayıcı nesnesi oluşturun\n",
        "    scanned_image = scanner.scan_to_file()  # Tarayıcıyı kullanarak bir görüntü alın\n",
        "    input_file = input_path\n",
        "\n",
        "    if not input_file.lower().endswith(('.pdf', '.jpeg', '.jpg', '.png')):\n",
        "        raise ValueError(\"Desteklenmeyen dosya uzantısı.\")\n",
        "\n",
        "    # Görüntüyü metne çevir\n",
        "    image = cv2.imread(scanned_image)\n",
        "    text = pytesseract.image_to_string(image)\n",
        "\n",
        "    # Şehir listesi\n",
        "    matched_cities = [city for city in cities if re.search(city, text, re.I)]\n",
        "\n",
        "    if matched_cities:\n",
        "        # Kategoriyi belirle\n",
        "        category = matched_cities[0]\n",
        "\n",
        "        # Kategorinin dosya yolu\n",
        "        category_path = os.path.join(category_folder, category)\n",
        "\n",
        "        # Kategorinin klasörünü oluştur\n",
        "        os.makedirs(category_path, exist_ok=True)\n",
        "\n",
        "        # Metni ilgili kategoriye kaydet\n",
        "        with open(os.path.join(category_path, os.path.basename(input_file)), \"w\") as file:\n",
        "            file.write(text)\n",
        "\n",
        "        # Tarayıcı tarafından kaydedilen geçici görüntüyü sil\n",
        "        os.remove(scanned_image)\n",
        "\n",
        "    return matched_cities\n",
        "\n",
        "# Kullanım örneği:\n",
        "input_path = \"example.jpg\"  # Tarayıcı ile tarama yapılacak dosyanın yolu\n",
        "cities = [\"Adana\", \"İstanbul\", \"Ankara\"]  # İlgili şehirleri ekleyin\n",
        "category_folder = \"categorized_data\"  # Kategorilendirilmiş verilerin kaydedileceği klasör\n",
        "\n",
        "matched_cities = scan_and_categorize(input_path, cities, category_folder)\n",
        "if matched_cities:\n",
        "    print(f\"Kategori: {matched_cities[0]}\")\n"
      ],
      "metadata": {
        "id": "cm3q6ntzfETD"
      },
      "execution_count": null,
      "outputs": []
    }
  ]
}